{
 "cells": [
  {
   "cell_type": "markdown",
   "id": "687aad15",
   "metadata": {},
   "source": [
    "#### String methods\n",
    "lower(), upper(), title(), split(), splitlines(), join(), strip(), find() ,replace()"
   ]
  },
  {
   "cell_type": "code",
   "execution_count": 1,
   "id": "71d6f2e9",
   "metadata": {
    "pycharm": {
     "is_executing": true
    }
   },
   "outputs": [
    {
     "data": {
      "text/plain": [
       "'Natural language processing'"
      ]
     },
     "execution_count": 1,
     "metadata": {},
     "output_type": "execute_result"
    }
   ],
   "source": [
    "my_str= '  Natural language processing '\n",
    "my_str.strip()"
   ]
  },
  {
   "cell_type": "markdown",
   "id": "6ed5db43",
   "metadata": {},
   "source": [
    "## NLTK"
   ]
  },
  {
   "cell_type": "markdown",
   "id": "b08d5170",
   "metadata": {},
   "source": [
    "### import nltk library and install Corpora"
   ]
  },
  {
   "cell_type": "code",
   "execution_count": 2,
   "id": "cb1b5a4d",
   "metadata": {},
   "outputs": [],
   "source": [
    "import nltk"
   ]
  },
  {
   "cell_type": "code",
   "execution_count": 3,
   "id": "bbb52edc",
   "metadata": {},
   "outputs": [
    {
     "name": "stderr",
     "output_type": "stream",
     "text": [
      "[nltk_data] Downloading package wordnet to\n",
      "[nltk_data]     C:\\Users\\Rawan\\AppData\\Roaming\\nltk_data...\n",
      "[nltk_data]   Package wordnet is already up-to-date!\n"
     ]
    },
    {
     "data": {
      "text/plain": [
       "True"
      ]
     },
     "execution_count": 3,
     "metadata": {},
     "output_type": "execute_result"
    }
   ],
   "source": [
    "nltk.download('wordnet')"
   ]
  },
  {
   "cell_type": "markdown",
   "id": "16e66ef8",
   "metadata": {},
   "source": [
    "## Explore the corpus"
   ]
  },
  {
   "cell_type": "markdown",
   "id": "92cec958",
   "metadata": {},
   "source": [
    "## Gutenberg corpus"
   ]
  },
  {
   "cell_type": "code",
   "execution_count": 4,
   "id": "bb411a3a",
   "metadata": {},
   "outputs": [],
   "source": [
    "from nltk.corpus import gutenberg as gn"
   ]
  },
  {
   "cell_type": "markdown",
   "id": "e0732f03",
   "metadata": {},
   "source": [
    "### Use the fileids() method to view a list of file names in corpus."
   ]
  },
  {
   "cell_type": "code",
   "execution_count": 5,
   "id": "67fc286d",
   "metadata": {},
   "outputs": [
    {
     "ename": "LookupError",
     "evalue": "\n**********************************************************************\n  Resource \u001b[93mgutenberg\u001b[0m not found.\n  Please use the NLTK Downloader to obtain the resource:\n\n  \u001b[31m>>> import nltk\n  >>> nltk.download('gutenberg')\n  \u001b[0m\n  For more information see: https://www.nltk.org/data.html\n\n  Attempted to load \u001b[93mcorpora/gutenberg\u001b[0m\n\n  Searched in:\n    - 'C:\\\\Users\\\\Rawan/nltk_data'\n    - 'c:\\\\Users\\\\Rawan\\\\Documents\\\\projects\\\\.venv\\\\nltk_data'\n    - 'c:\\\\Users\\\\Rawan\\\\Documents\\\\projects\\\\.venv\\\\share\\\\nltk_data'\n    - 'c:\\\\Users\\\\Rawan\\\\Documents\\\\projects\\\\.venv\\\\lib\\\\nltk_data'\n    - 'C:\\\\Users\\\\Rawan\\\\AppData\\\\Roaming\\\\nltk_data'\n    - 'C:\\\\nltk_data'\n    - 'D:\\\\nltk_data'\n    - 'E:\\\\nltk_data'\n**********************************************************************\n",
     "output_type": "error",
     "traceback": [
      "\u001b[1;31m---------------------------------------------------------------------------\u001b[0m",
      "\u001b[1;31mLookupError\u001b[0m                               Traceback (most recent call last)",
      "File \u001b[1;32mc:\\Users\\Rawan\\Documents\\projects\\.venv\\lib\\site-packages\\nltk\\corpus\\util.py:84\u001b[0m, in \u001b[0;36mLazyCorpusLoader.__load\u001b[1;34m(self)\u001b[0m\n\u001b[0;32m     83\u001b[0m \u001b[39mtry\u001b[39;00m:\n\u001b[1;32m---> 84\u001b[0m     root \u001b[39m=\u001b[39m nltk\u001b[39m.\u001b[39;49mdata\u001b[39m.\u001b[39;49mfind(\u001b[39mf\u001b[39;49m\u001b[39m\"\u001b[39;49m\u001b[39m{\u001b[39;49;00m\u001b[39mself\u001b[39;49m\u001b[39m.\u001b[39;49msubdir\u001b[39m}\u001b[39;49;00m\u001b[39m/\u001b[39;49m\u001b[39m{\u001b[39;49;00mzip_name\u001b[39m}\u001b[39;49;00m\u001b[39m\"\u001b[39;49m)\n\u001b[0;32m     85\u001b[0m \u001b[39mexcept\u001b[39;00m \u001b[39mLookupError\u001b[39;00m:\n",
      "File \u001b[1;32mc:\\Users\\Rawan\\Documents\\projects\\.venv\\lib\\site-packages\\nltk\\data.py:583\u001b[0m, in \u001b[0;36mfind\u001b[1;34m(resource_name, paths)\u001b[0m\n\u001b[0;32m    582\u001b[0m resource_not_found \u001b[39m=\u001b[39m \u001b[39mf\u001b[39m\u001b[39m\"\u001b[39m\u001b[39m\\n\u001b[39;00m\u001b[39m{\u001b[39;00msep\u001b[39m}\u001b[39;00m\u001b[39m\\n\u001b[39;00m\u001b[39m{\u001b[39;00mmsg\u001b[39m}\u001b[39;00m\u001b[39m\\n\u001b[39;00m\u001b[39m{\u001b[39;00msep\u001b[39m}\u001b[39;00m\u001b[39m\\n\u001b[39;00m\u001b[39m\"\u001b[39m\n\u001b[1;32m--> 583\u001b[0m \u001b[39mraise\u001b[39;00m \u001b[39mLookupError\u001b[39;00m(resource_not_found)\n",
      "\u001b[1;31mLookupError\u001b[0m: \n**********************************************************************\n  Resource \u001b[93mgutenberg\u001b[0m not found.\n  Please use the NLTK Downloader to obtain the resource:\n\n  \u001b[31m>>> import nltk\n  >>> nltk.download('gutenberg')\n  \u001b[0m\n  For more information see: https://www.nltk.org/data.html\n\n  Attempted to load \u001b[93mcorpora/gutenberg.zip/gutenberg/\u001b[0m\n\n  Searched in:\n    - 'C:\\\\Users\\\\Rawan/nltk_data'\n    - 'c:\\\\Users\\\\Rawan\\\\Documents\\\\projects\\\\.venv\\\\nltk_data'\n    - 'c:\\\\Users\\\\Rawan\\\\Documents\\\\projects\\\\.venv\\\\share\\\\nltk_data'\n    - 'c:\\\\Users\\\\Rawan\\\\Documents\\\\projects\\\\.venv\\\\lib\\\\nltk_data'\n    - 'C:\\\\Users\\\\Rawan\\\\AppData\\\\Roaming\\\\nltk_data'\n    - 'C:\\\\nltk_data'\n    - 'D:\\\\nltk_data'\n    - 'E:\\\\nltk_data'\n**********************************************************************\n",
      "\nDuring handling of the above exception, another exception occurred:\n",
      "\u001b[1;31mLookupError\u001b[0m                               Traceback (most recent call last)",
      "Cell \u001b[1;32mIn[5], line 2\u001b[0m\n\u001b[0;32m      1\u001b[0m \u001b[39m#the file identifiers in this corpus\u001b[39;00m\n\u001b[1;32m----> 2\u001b[0m gn_files \u001b[39m=\u001b[39m gn\u001b[39m.\u001b[39;49mfileids()\n\u001b[0;32m      3\u001b[0m gn_files\n",
      "File \u001b[1;32mc:\\Users\\Rawan\\Documents\\projects\\.venv\\lib\\site-packages\\nltk\\corpus\\util.py:121\u001b[0m, in \u001b[0;36mLazyCorpusLoader.__getattr__\u001b[1;34m(self, attr)\u001b[0m\n\u001b[0;32m    118\u001b[0m \u001b[39mif\u001b[39;00m attr \u001b[39m==\u001b[39m \u001b[39m\"\u001b[39m\u001b[39m__bases__\u001b[39m\u001b[39m\"\u001b[39m:\n\u001b[0;32m    119\u001b[0m     \u001b[39mraise\u001b[39;00m \u001b[39mAttributeError\u001b[39;00m(\u001b[39m\"\u001b[39m\u001b[39mLazyCorpusLoader object has no attribute \u001b[39m\u001b[39m'\u001b[39m\u001b[39m__bases__\u001b[39m\u001b[39m'\u001b[39m\u001b[39m\"\u001b[39m)\n\u001b[1;32m--> 121\u001b[0m \u001b[39mself\u001b[39;49m\u001b[39m.\u001b[39;49m__load()\n\u001b[0;32m    122\u001b[0m \u001b[39m# This looks circular, but its not, since __load() changes our\u001b[39;00m\n\u001b[0;32m    123\u001b[0m \u001b[39m# __class__ to something new:\u001b[39;00m\n\u001b[0;32m    124\u001b[0m \u001b[39mreturn\u001b[39;00m \u001b[39mgetattr\u001b[39m(\u001b[39mself\u001b[39m, attr)\n",
      "File \u001b[1;32mc:\\Users\\Rawan\\Documents\\projects\\.venv\\lib\\site-packages\\nltk\\corpus\\util.py:86\u001b[0m, in \u001b[0;36mLazyCorpusLoader.__load\u001b[1;34m(self)\u001b[0m\n\u001b[0;32m     84\u001b[0m             root \u001b[39m=\u001b[39m nltk\u001b[39m.\u001b[39mdata\u001b[39m.\u001b[39mfind(\u001b[39mf\u001b[39m\u001b[39m\"\u001b[39m\u001b[39m{\u001b[39;00m\u001b[39mself\u001b[39m\u001b[39m.\u001b[39msubdir\u001b[39m}\u001b[39;00m\u001b[39m/\u001b[39m\u001b[39m{\u001b[39;00mzip_name\u001b[39m}\u001b[39;00m\u001b[39m\"\u001b[39m)\n\u001b[0;32m     85\u001b[0m         \u001b[39mexcept\u001b[39;00m \u001b[39mLookupError\u001b[39;00m:\n\u001b[1;32m---> 86\u001b[0m             \u001b[39mraise\u001b[39;00m e\n\u001b[0;32m     88\u001b[0m \u001b[39m# Load the corpus.\u001b[39;00m\n\u001b[0;32m     89\u001b[0m corpus \u001b[39m=\u001b[39m \u001b[39mself\u001b[39m\u001b[39m.\u001b[39m__reader_cls(root, \u001b[39m*\u001b[39m\u001b[39mself\u001b[39m\u001b[39m.\u001b[39m__args, \u001b[39m*\u001b[39m\u001b[39m*\u001b[39m\u001b[39mself\u001b[39m\u001b[39m.\u001b[39m__kwargs)\n",
      "File \u001b[1;32mc:\\Users\\Rawan\\Documents\\projects\\.venv\\lib\\site-packages\\nltk\\corpus\\util.py:81\u001b[0m, in \u001b[0;36mLazyCorpusLoader.__load\u001b[1;34m(self)\u001b[0m\n\u001b[0;32m     79\u001b[0m \u001b[39melse\u001b[39;00m:\n\u001b[0;32m     80\u001b[0m     \u001b[39mtry\u001b[39;00m:\n\u001b[1;32m---> 81\u001b[0m         root \u001b[39m=\u001b[39m nltk\u001b[39m.\u001b[39;49mdata\u001b[39m.\u001b[39;49mfind(\u001b[39mf\u001b[39;49m\u001b[39m\"\u001b[39;49m\u001b[39m{\u001b[39;49;00m\u001b[39mself\u001b[39;49m\u001b[39m.\u001b[39;49msubdir\u001b[39m}\u001b[39;49;00m\u001b[39m/\u001b[39;49m\u001b[39m{\u001b[39;49;00m\u001b[39mself\u001b[39;49m\u001b[39m.\u001b[39;49m__name\u001b[39m}\u001b[39;49;00m\u001b[39m\"\u001b[39;49m)\n\u001b[0;32m     82\u001b[0m     \u001b[39mexcept\u001b[39;00m \u001b[39mLookupError\u001b[39;00m \u001b[39mas\u001b[39;00m e:\n\u001b[0;32m     83\u001b[0m         \u001b[39mtry\u001b[39;00m:\n",
      "File \u001b[1;32mc:\\Users\\Rawan\\Documents\\projects\\.venv\\lib\\site-packages\\nltk\\data.py:583\u001b[0m, in \u001b[0;36mfind\u001b[1;34m(resource_name, paths)\u001b[0m\n\u001b[0;32m    581\u001b[0m sep \u001b[39m=\u001b[39m \u001b[39m\"\u001b[39m\u001b[39m*\u001b[39m\u001b[39m\"\u001b[39m \u001b[39m*\u001b[39m \u001b[39m70\u001b[39m\n\u001b[0;32m    582\u001b[0m resource_not_found \u001b[39m=\u001b[39m \u001b[39mf\u001b[39m\u001b[39m\"\u001b[39m\u001b[39m\\n\u001b[39;00m\u001b[39m{\u001b[39;00msep\u001b[39m}\u001b[39;00m\u001b[39m\\n\u001b[39;00m\u001b[39m{\u001b[39;00mmsg\u001b[39m}\u001b[39;00m\u001b[39m\\n\u001b[39;00m\u001b[39m{\u001b[39;00msep\u001b[39m}\u001b[39;00m\u001b[39m\\n\u001b[39;00m\u001b[39m\"\u001b[39m\n\u001b[1;32m--> 583\u001b[0m \u001b[39mraise\u001b[39;00m \u001b[39mLookupError\u001b[39;00m(resource_not_found)\n",
      "\u001b[1;31mLookupError\u001b[0m: \n**********************************************************************\n  Resource \u001b[93mgutenberg\u001b[0m not found.\n  Please use the NLTK Downloader to obtain the resource:\n\n  \u001b[31m>>> import nltk\n  >>> nltk.download('gutenberg')\n  \u001b[0m\n  For more information see: https://www.nltk.org/data.html\n\n  Attempted to load \u001b[93mcorpora/gutenberg\u001b[0m\n\n  Searched in:\n    - 'C:\\\\Users\\\\Rawan/nltk_data'\n    - 'c:\\\\Users\\\\Rawan\\\\Documents\\\\projects\\\\.venv\\\\nltk_data'\n    - 'c:\\\\Users\\\\Rawan\\\\Documents\\\\projects\\\\.venv\\\\share\\\\nltk_data'\n    - 'c:\\\\Users\\\\Rawan\\\\Documents\\\\projects\\\\.venv\\\\lib\\\\nltk_data'\n    - 'C:\\\\Users\\\\Rawan\\\\AppData\\\\Roaming\\\\nltk_data'\n    - 'C:\\\\nltk_data'\n    - 'D:\\\\nltk_data'\n    - 'E:\\\\nltk_data'\n**********************************************************************\n"
     ]
    }
   ],
   "source": [
    "#the file identifiers in this corpus\n",
    "gn_files = gn.fileids()\n",
    "gn_files"
   ]
  },
  {
   "cell_type": "code",
   "execution_count": null,
   "id": "40c9d867",
   "metadata": {},
   "outputs": [],
   "source": [
    "len(gn_files)"
   ]
  },
  {
   "cell_type": "code",
   "execution_count": null,
   "id": "54f2fc13",
   "metadata": {},
   "outputs": [],
   "source": [
    "emma= gn_files[0]"
   ]
  },
  {
   "cell_type": "markdown",
   "id": "c6d0350b",
   "metadata": {},
   "source": [
    "### use the raw() method to get the raw text in corpus.\n",
    "gives the contents of the file without any linguistic processing."
   ]
  },
  {
   "cell_type": "code",
   "execution_count": null,
   "id": "b65b289f",
   "metadata": {},
   "outputs": [],
   "source": [
    "gn.raw(emma)[1]"
   ]
  },
  {
   "cell_type": "markdown",
   "id": "1545f78a",
   "metadata": {},
   "source": [
    "### Use the words() method to find the list of all the words in corpus."
   ]
  },
  {
   "cell_type": "code",
   "execution_count": null,
   "id": "5160f265",
   "metadata": {
    "scrolled": false
   },
   "outputs": [],
   "source": [
    "gn.words(emma)"
   ]
  },
  {
   "cell_type": "markdown",
   "id": "d1986906",
   "metadata": {},
   "source": [
    "### Use the pars() method to find all the paragraphs in a corpus. "
   ]
  },
  {
   "cell_type": "code",
   "execution_count": null,
   "id": "34356f15",
   "metadata": {},
   "outputs": [],
   "source": [
    "gn.paras(emma)[3]"
   ]
  },
  {
   "cell_type": "markdown",
   "id": "e5e0e293",
   "metadata": {},
   "source": [
    "### Use the sents() method to find all the sentences in a corpus. "
   ]
  },
  {
   "cell_type": "code",
   "execution_count": null,
   "id": "c71cd29d",
   "metadata": {
    "scrolled": true
   },
   "outputs": [],
   "source": [
    "gn.sents(emma)[4]"
   ]
  },
  {
   "cell_type": "markdown",
   "id": "14d6efc2",
   "metadata": {},
   "source": [
    "### Frequency of words"
   ]
  },
  {
   "cell_type": "code",
   "execution_count": null,
   "id": "0e1492c3",
   "metadata": {},
   "outputs": [],
   "source": [
    "freqdist = nltk.FreqDist(gn.words())\n",
    "freqdist"
   ]
  },
  {
   "cell_type": "code",
   "execution_count": null,
   "id": "58d2f804",
   "metadata": {},
   "outputs": [],
   "source": [
    "freqdist.most_common(10)"
   ]
  },
  {
   "cell_type": "code",
   "execution_count": null,
   "id": "ec16962d",
   "metadata": {},
   "outputs": [],
   "source": [
    "from nltk.text import Text\n",
    "emma_text=Text(gn.words(emma))\n",
    "emma_text.concordance('came')\n",
    "emma_text.count('came')"
   ]
  },
  {
   "cell_type": "markdown",
   "id": "b5a9664c",
   "metadata": {},
   "source": [
    "Average **word length**,\n",
    "Average **sentence length**,\n",
    "Average **vocab**:\n",
    "the number of times each vocabulary item appears in the text (our lexical diversity score)"
   ]
  },
  {
   "cell_type": "code",
   "execution_count": null,
   "id": "559c85f4",
   "metadata": {
    "scrolled": true
   },
   "outputs": [],
   "source": [
    "for fileid in gn.fileids():\n",
    "    num_chars = len(gn.raw(fileid))\n",
    "    num_words = len(gn.words(fileid))\n",
    "    num_sents = len(gn.sents(fileid))\n",
    "    num_vocab = len(set(w.lower() for w in gn.words(fileid)))\n",
    "    print(round(num_chars/num_words), round(num_words/num_sents), round(num_words/num_vocab), fileid)"
   ]
  },
  {
   "cell_type": "markdown",
   "id": "50857aad",
   "metadata": {},
   "source": [
    "## Brown Corpus"
   ]
  },
  {
   "cell_type": "code",
   "execution_count": null,
   "id": "1d074aea",
   "metadata": {},
   "outputs": [],
   "source": [
    "from nltk.corpus import brown"
   ]
  },
  {
   "cell_type": "code",
   "execution_count": null,
   "id": "f17c5376",
   "metadata": {},
   "outputs": [],
   "source": [
    "brown.fileids()"
   ]
  },
  {
   "cell_type": "code",
   "execution_count": null,
   "id": "2ebb58de",
   "metadata": {},
   "outputs": [],
   "source": [
    "brown.categories()"
   ]
  },
  {
   "cell_type": "code",
   "execution_count": null,
   "id": "17ae9243",
   "metadata": {},
   "outputs": [],
   "source": [
    "print(brown.raw(categories='news'))"
   ]
  },
  {
   "cell_type": "code",
   "execution_count": null,
   "id": "2b10195d",
   "metadata": {},
   "outputs": [],
   "source": [
    "brown.words(categories='news')"
   ]
  },
  {
   "cell_type": "code",
   "execution_count": null,
   "id": "33bdbd0e",
   "metadata": {},
   "outputs": [],
   "source": [
    "brown.words(fileids=['cg22'])"
   ]
  },
  {
   "cell_type": "code",
   "execution_count": null,
   "id": "efdd40ce",
   "metadata": {},
   "outputs": [],
   "source": [
    "print(brown.tagged_words())"
   ]
  },
  {
   "cell_type": "code",
   "execution_count": null,
   "id": "e9d0b4cb",
   "metadata": {},
   "outputs": [],
   "source": [
    "brown.sents(categories='news')"
   ]
  },
  {
   "cell_type": "code",
   "execution_count": null,
   "id": "51c67c0d",
   "metadata": {},
   "outputs": [],
   "source": [
    "print(brown.tagged_sents(categories='news')[1])"
   ]
  },
  {
   "cell_type": "code",
   "execution_count": null,
   "id": "e97b0f7f",
   "metadata": {},
   "outputs": [],
   "source": [
    "print(brown.tagged_paras(categories='news')[1])"
   ]
  },
  {
   "cell_type": "code",
   "execution_count": null,
   "id": "213e231d",
   "metadata": {},
   "outputs": [],
   "source": [
    "news_text = brown.words(categories='news')\n",
    "fdist = nltk.FreqDist(w.lower() for w in news_text)\n",
    "fdist"
   ]
  },
  {
   "cell_type": "code",
   "execution_count": null,
   "id": "385bf2f1",
   "metadata": {},
   "outputs": [],
   "source": [
    "modals = ['can', 'could', 'may', 'might', 'must', 'where','will']\n",
    "for mod in modals:\n",
    "    print(mod + '--->', fdist[mod])"
   ]
  },
  {
   "cell_type": "markdown",
   "id": "eaee69f9",
   "metadata": {},
   "source": [
    "# Tokenization"
   ]
  },
  {
   "cell_type": "code",
   "execution_count": null,
   "id": "b6e1cff4",
   "metadata": {},
   "outputs": [],
   "source": [
    "from nltk.tokenize import word_tokenize, sent_tokenize, regexp_tokenize, LineTokenizer"
   ]
  },
  {
   "cell_type": "markdown",
   "id": "4905b4d2",
   "metadata": {},
   "source": [
    "### word_tokenize"
   ]
  },
  {
   "cell_type": "code",
   "execution_count": null,
   "id": "2764946c",
   "metadata": {},
   "outputs": [],
   "source": [
    "#first let's try string .split() method\n",
    "gn.raw(emma).split()[50:90]"
   ]
  },
  {
   "cell_type": "code",
   "execution_count": null,
   "id": "15483635",
   "metadata": {},
   "outputs": [],
   "source": [
    "word_token_list = word_tokenize(gn.raw(emma))"
   ]
  },
  {
   "cell_type": "code",
   "execution_count": null,
   "id": "37ca0ca3",
   "metadata": {},
   "outputs": [],
   "source": [
    "word_token_list[50:90]"
   ]
  },
  {
   "cell_type": "markdown",
   "id": "9a78c8b3",
   "metadata": {},
   "source": [
    "### sent_tokenize"
   ]
  },
  {
   "cell_type": "code",
   "execution_count": null,
   "id": "dc86776c",
   "metadata": {},
   "outputs": [],
   "source": [
    "sent_token_list = sent_tokenize(gn.raw(emma))\n",
    "sent_token_list[0]"
   ]
  },
  {
   "cell_type": "markdown",
   "id": "e297153e",
   "metadata": {},
   "source": [
    "### regexp_tokenize"
   ]
  },
  {
   "cell_type": "code",
   "execution_count": null,
   "id": "748d4dc9",
   "metadata": {},
   "outputs": [],
   "source": [
    "re_token_list = regexp_tokenize(gn.raw(emma),'[a-zA-Z]+')"
   ]
  },
  {
   "cell_type": "code",
   "execution_count": null,
   "id": "f2f6b13d",
   "metadata": {},
   "outputs": [],
   "source": [
    "re_token_list[:10]"
   ]
  },
  {
   "cell_type": "markdown",
   "id": "fce8f8e6",
   "metadata": {},
   "source": [
    "### LineTokenizer"
   ]
  },
  {
   "cell_type": "code",
   "execution_count": null,
   "id": "d3fd925c",
   "metadata": {},
   "outputs": [],
   "source": [
    "lint_t = LineTokenizer()"
   ]
  },
  {
   "cell_type": "code",
   "execution_count": null,
   "id": "516a7b8f",
   "metadata": {},
   "outputs": [],
   "source": [
    "lint_t.tokenize(gn.raw(emma))[3]"
   ]
  },
  {
   "cell_type": "markdown",
   "id": "cba25562",
   "metadata": {},
   "source": [
    "For more details read: https://www.nltk.org/book/ch02.html"
   ]
  }
 ],
 "metadata": {
  "kernelspec": {
   "display_name": "Python 3 (ipykernel)",
   "language": "python",
   "name": "python3"
  },
  "language_info": {
   "codemirror_mode": {
    "name": "ipython",
    "version": 3
   },
   "file_extension": ".py",
   "mimetype": "text/x-python",
   "name": "python",
   "nbconvert_exporter": "python",
   "pygments_lexer": "ipython3",
   "version": "3.10.6"
  }
 },
 "nbformat": 4,
 "nbformat_minor": 5
}
